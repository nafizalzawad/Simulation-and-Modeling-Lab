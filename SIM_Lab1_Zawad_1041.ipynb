{
  "nbformat": 4,
  "nbformat_minor": 0,
  "metadata": {
    "colab": {
      "provenance": []
    },
    "kernelspec": {
      "name": "python3",
      "display_name": "Python 3"
    },
    "language_info": {
      "name": "python"
    }
  },
  "cells": [
    {
      "cell_type": "code",
      "execution_count": null,
      "metadata": {
        "colab": {
          "base_uri": "https://localhost:8080/"
        },
        "id": "0ks4VzkwYy99",
        "outputId": "2f123a8b-d47c-41f4-d77b-fcab37d001ef"
      },
      "outputs": [
        {
          "output_type": "stream",
          "name": "stdout",
          "text": [
            "Original array: [ 2.5 -1.2  3.6  0.  -4.7  1.8]\n",
            "sin(array): [ 0.59847214 -0.93203909 -0.44252044  0.          0.99992326  0.97384763]\n",
            "cos(array): [-0.80114362  0.36235775 -0.89675842  1.         -0.01238866 -0.22720209]\n",
            "tan(array): [ -0.7470223   -2.57215162   0.49346673   0.         -80.71276297\n",
            "  -4.28626167]\n"
          ]
        }
      ],
      "source": [
        "import numpy as np\n",
        "from sympy import Matrix\n",
        "import matplotlib.pyplot as plt\n",
        "import seaborn as sns\n",
        "\n",
        "scalar = 3.7\n",
        "array = np.array([2.5, -1.2, 3.6, 0.0, -4.7, 1.8])  # Custom 6-element array\n",
        "\n",
        "print(\"Original array:\", array)\n",
        "\n",
        "# Trigonometric functions\n",
        "print(\"sin(array):\", np.sin(array))\n",
        "print(\"cos(array):\", np.cos(array))\n",
        "print(\"tan(array):\", np.tan(array))\n",
        "\n",
        "\n"
      ]
    },
    {
      "cell_type": "code",
      "source": [
        "import numpy as np\n",
        "from sympy import Matrix\n",
        "import matplotlib.pyplot as plt\n",
        "import seaborn as sns\n",
        "\n",
        "matrix = np.array([[1.2, -3.4], [0.5, 2.6], [-1.0, 4.8]])\n",
        "print(\"Matrix:\\n\", matrix)\n",
        "\n",
        "# Trigonometric\n",
        "print(\"sin:\", np.sin(matrix))\n",
        "print(\"cos:\", np.cos(matrix))\n",
        "print(\"tan:\", np.tan(matrix))\n",
        "\n",
        "# Exponential & Logarithmic\n",
        "print(\"exp:\\n\", np.exp(matrix))\n",
        "print(\"log (clipped > 0.1):\\n\", np.log(np.clip(matrix, 0.1, None)))\n",
        "\n",
        "# Absolute value & Square root\n",
        "print(\"abs:\\n\", np.abs(matrix))\n",
        "print(\"sqrt (abs):\\n\", np.sqrt(np.abs(matrix)))\n",
        "\n",
        "# Remainder when divided by 2\n",
        "print(\"remainder % 2:\\n\", np.remainder(matrix, 2))\n",
        "\n",
        "# Rounding\n",
        "print(\"round:\\n\", np.round(matrix))\n",
        "print(\"floor:\\n\", np.floor(matrix))\n",
        "print(\"ceil:\\n\", np.ceil(matrix))"
      ],
      "metadata": {
        "colab": {
          "base_uri": "https://localhost:8080/"
        },
        "id": "xmK6Pe8yhBcZ",
        "outputId": "5fb112b4-e3f4-47eb-e6af-83c8f2a8a9d3"
      },
      "execution_count": null,
      "outputs": [
        {
          "output_type": "stream",
          "name": "stdout",
          "text": [
            "Matrix:\n",
            " [[ 1.2 -3.4]\n",
            " [ 0.5  2.6]\n",
            " [-1.   4.8]]\n",
            "sin: [[ 0.93203909  0.2555411 ]\n",
            " [ 0.47942554  0.51550137]\n",
            " [-0.84147098 -0.99616461]]\n",
            "cos: [[ 0.36235775 -0.96679819]\n",
            " [ 0.87758256 -0.85688875]\n",
            " [ 0.54030231  0.08749898]]\n",
            "tan: [[  2.57215162  -0.2643169 ]\n",
            " [  0.54630249  -0.60159661]\n",
            " [ -1.55740772 -11.38487065]]\n",
            "exp:\n",
            " [[3.32011692e+00 3.33732700e-02]\n",
            " [1.64872127e+00 1.34637380e+01]\n",
            " [3.67879441e-01 1.21510418e+02]]\n",
            "log (clipped > 0.1):\n",
            " [[ 0.18232156 -2.30258509]\n",
            " [-0.69314718  0.95551145]\n",
            " [-2.30258509  1.56861592]]\n",
            "abs:\n",
            " [[1.2 3.4]\n",
            " [0.5 2.6]\n",
            " [1.  4.8]]\n",
            "sqrt (abs):\n",
            " [[1.09544512 1.84390889]\n",
            " [0.70710678 1.61245155]\n",
            " [1.         2.19089023]]\n",
            "remainder % 2:\n",
            " [[1.2 0.6]\n",
            " [0.5 0.6]\n",
            " [1.  0.8]]\n",
            "round:\n",
            " [[ 1. -3.]\n",
            " [ 0.  3.]\n",
            " [-1.  5.]]\n",
            "floor:\n",
            " [[ 1. -4.]\n",
            " [ 0.  2.]\n",
            " [-1.  4.]]\n",
            "ceil:\n",
            " [[ 2. -3.]\n",
            " [ 1.  3.]\n",
            " [-1.  5.]]\n"
          ]
        }
      ]
    },
    {
      "cell_type": "code",
      "source": [
        "import numpy as np\n",
        "from sympy import Matrix\n",
        "import matplotlib.pyplot as plt\n",
        "import seaborn as sns\n",
        "\n",
        "vector_matrix = np.array([[2.1, 4.7, 3.3],\n",
        "                          [1.9, 5.6, 0.8]])\n",
        "\n",
        "print(\"\\n2x3 Vector Matrix:\\n\", vector_matrix)\n",
        "\n",
        "# Max & Min with indices\n",
        "print(\"Max value:\", np.max(vector_matrix))\n",
        "print(\"Min value:\", np.min(vector_matrix))\n",
        "print(\"Index of Max:\", np.unravel_index(np.argmax(vector_matrix), vector_matrix.shape))\n",
        "print(\"Index of Min:\", np.unravel_index(np.argmin(vector_matrix), vector_matrix.shape))\n",
        "\n",
        "# Vector length (L2 Norm)\n",
        "print(\"Vector length:\", np.linalg.norm(vector_matrix))\n",
        "\n",
        "# Sorting\n",
        "print(\"Row-wise sorted descending:\\n\", np.sort(vector_matrix)[:, ::-1])\n",
        "print(\"Entire matrix sorted descending:\\n\", np.sort(vector_matrix.flatten())[::-1])\n",
        "\n",
        "# Sum, Product\n",
        "print(\"Sum:\", np.sum(vector_matrix))\n",
        "print(\"Product:\", np.prod(vector_matrix))\n",
        "\n",
        "# Median, Mean, Standard Deviation\n",
        "print(\"Median:\", np.median(vector_matrix))\n",
        "print(\"Mean:\", np.mean(vector_matrix))\n",
        "print(\"Standard Deviation:\", np.std(vector_matrix))"
      ],
      "metadata": {
        "colab": {
          "base_uri": "https://localhost:8080/"
        },
        "id": "J8GLeqXBiUjC",
        "outputId": "90cd302f-1fc6-4ff7-90ec-288651aef280"
      },
      "execution_count": null,
      "outputs": [
        {
          "output_type": "stream",
          "name": "stdout",
          "text": [
            "\n",
            "2x3 Vector Matrix:\n",
            " [[2.1 4.7 3.3]\n",
            " [1.9 5.6 0.8]]\n",
            "Max value: 5.6\n",
            "Min value: 0.8\n",
            "Index of Max: (np.int64(1), np.int64(1))\n",
            "Index of Min: (np.int64(1), np.int64(2))\n",
            "Vector length: 8.54400374531753\n",
            "Row-wise sorted descending:\n",
            " [[4.7 3.3 2.1]\n",
            " [5.6 1.9 0.8]]\n",
            "Entire matrix sorted descending:\n",
            " [5.6 4.7 3.3 2.1 1.9 0.8]\n",
            "Sum: 18.400000000000002\n",
            "Product: 277.24435200000005\n",
            "Median: 2.7\n",
            "Mean: 3.066666666666667\n",
            "Standard Deviation: 1.6619934483090546\n"
          ]
        }
      ]
    }
  ]
}