{
  "nbformat": 4,
  "nbformat_minor": 0,
  "metadata": {
    "colab": {
      "provenance": []
    },
    "kernelspec": {
      "name": "python3",
      "display_name": "Python 3"
    },
    "language_info": {
      "name": "python"
    }
  },
  "cells": [
    {
      "cell_type": "code",
      "execution_count": null,
      "metadata": {
        "colab": {
          "base_uri": "https://localhost:8080/"
        },
        "id": "xJB_dUlInm3-",
        "outputId": "cc49cdee-188c-410b-e586-4a2748632df2"
      },
      "outputs": [
        {
          "output_type": "stream",
          "name": "stdout",
          "text": [
            "Range Used | Total Points | Points Inside | Estimated π | Error from π\n",
            "[0, 4.1]   | 23400        | 18450         | 3.153846    | 0.012254\n",
            "[0, 4.1]   | 23400        | 18426         | 3.149744    | 0.008151\n",
            "[0, 4.1]   | 23400        | 18398         | 3.144957    | 0.003365\n",
            "[0, 4.1]   | 23400        | 18327         | 3.132821    | 0.008772\n",
            "[0, 4.1]   | 23400        | 18359         | 3.138291    | 0.003302\n"
          ]
        }
      ],
      "source": [
        "import random\n",
        "import numpy as np\n",
        "import math\n",
        "\n",
        "def estimate_pi(num_points):\n",
        "    inside = 0  # Count points inside the circle\n",
        "\n",
        "    for i in range(num_points):\n",
        "        if i < num_points // 2:\n",
        "            x = random.uniform(0, 4.1)\n",
        "            y = random.uniform(0, 4.1)\n",
        "        else:\n",
        "            x = np.random.rand() * 4.1\n",
        "            y = np.random.rand() * 4.1\n",
        "\n",
        "        if x*x + y*y <= 4.1**2:\n",
        "            inside += 1  # Point is inside the circle\n",
        "\n",
        "    pi_estimate = 4 * inside / num_points\n",
        "    error = abs(math.pi - pi_estimate)\n",
        "\n",
        "    return num_points, inside, pi_estimate, error  # Return all needed values\n",
        "\n",
        "\n",
        "print(\"Range Used | Total Points | Points Inside | Estimated π | Error from π\")\n",
        "for run in range(1, 6):\n",
        "    num_points = 23400\n",
        "    total, inside, pi_estimate, error = estimate_pi(num_points)\n",
        "    print(f\"[0, 4.1]   | {total:<12} | {inside:<13} | {pi_estimate:<11.6f} | {error:.6f}\")\n"
      ]
    }
  ]
}